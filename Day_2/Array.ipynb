{
 "cells": [
  {
   "cell_type": "code",
   "execution_count": 5,
   "metadata": {},
   "outputs": [],
   "source": [
    "from array import *"
   ]
  },
  {
   "cell_type": "code",
   "execution_count": 7,
   "metadata": {},
   "outputs": [
    {
     "name": "stdout",
     "output_type": "stream",
     "text": [
      "array('i', [5, 9, 8, 4, 2])\n"
     ]
    }
   ],
   "source": [
    "vals = array('i',[5,9,8,4,2])\n",
    "print(vals)"
   ]
  },
  {
   "cell_type": "code",
   "execution_count": 8,
   "metadata": {},
   "outputs": [
    {
     "name": "stdout",
     "output_type": "stream",
     "text": [
      "(2370589666704, 5)\n"
     ]
    }
   ],
   "source": [
    "vals = array('i',[5,9,8,4,2])\n",
    "print(vals.buffer_info()) #gives address abd size of array"
   ]
  },
  {
   "cell_type": "code",
   "execution_count": 11,
   "metadata": {},
   "outputs": [
    {
     "name": "stdout",
     "output_type": "stream",
     "text": [
      "i\n"
     ]
    }
   ],
   "source": [
    "vals = array('i',[5,9,8,4,2])\n",
    "print(vals.typecode)"
   ]
  },
  {
   "cell_type": "code",
   "execution_count": 15,
   "metadata": {},
   "outputs": [
    {
     "name": "stdout",
     "output_type": "stream",
     "text": [
      "array('i', [2, 4, 8, 9, 5])\n"
     ]
    }
   ],
   "source": [
    "vals = array('i',[5,9,8,4,2])\n",
    "vals.reverse()\n",
    "print(vals)"
   ]
  },
  {
   "cell_type": "code",
   "execution_count": 18,
   "metadata": {},
   "outputs": [
    {
     "name": "stdout",
     "output_type": "stream",
     "text": [
      "5\n",
      "9\n",
      "8\n",
      "4\n",
      "2\n"
     ]
    }
   ],
   "source": [
    "vals = array('i',[5,9,8,4,2])\n",
    "for i in range(len(vals)):\n",
    "    print(vals[i])"
   ]
  },
  {
   "cell_type": "code",
   "execution_count": 19,
   "metadata": {},
   "outputs": [
    {
     "name": "stdout",
     "output_type": "stream",
     "text": [
      "5\n",
      "9\n",
      "8\n",
      "4\n",
      "2\n"
     ]
    }
   ],
   "source": [
    "vals = array('i',[5,9,8,4,2])\n",
    "for e in vals:\n",
    "    print(e)"
   ]
  },
  {
   "cell_type": "code",
   "execution_count": 21,
   "metadata": {},
   "outputs": [
    {
     "name": "stdout",
     "output_type": "stream",
     "text": [
      "a\n",
      "e\n",
      "i\n"
     ]
    }
   ],
   "source": [
    "vals = array('u',['a','e','i'])\n",
    "for e in vals:\n",
    "    print(e)"
   ]
  },
  {
   "cell_type": "code",
   "execution_count": 23,
   "metadata": {},
   "outputs": [
    {
     "name": "stdout",
     "output_type": "stream",
     "text": [
      "5\n",
      "9\n",
      "8\n",
      "4\n",
      "2\n"
     ]
    }
   ],
   "source": [
    "vals = array('i',[5,9,8,4,2])\n",
    "newarr = array(vals.typecode,(a for a in vals))\n",
    "for e in newarr:\n",
    "    print(e)"
   ]
  },
  {
   "cell_type": "code",
   "execution_count": 24,
   "metadata": {},
   "outputs": [
    {
     "name": "stdout",
     "output_type": "stream",
     "text": [
      "25\n",
      "81\n",
      "64\n",
      "16\n",
      "4\n"
     ]
    }
   ],
   "source": [
    "vals = array('i',[5,9,8,4,2])\n",
    "newarr = array(vals.typecode,(a*a for a in vals))\n",
    "for e in newarr:\n",
    "    print(e)"
   ]
  },
  {
   "cell_type": "code",
   "execution_count": 25,
   "metadata": {},
   "outputs": [
    {
     "name": "stdout",
     "output_type": "stream",
     "text": [
      "5\n",
      "9\n",
      "8\n",
      "4\n",
      "2\n"
     ]
    }
   ],
   "source": [
    "vals = array('i',[5,9,8,4,2])\n",
    "newarr = array(vals.typecode,(a for a in vals))\n",
    "i = 0\n",
    "while i < len(newarr):\n",
    "    print(newarr[i])\n",
    "    i+=1"
   ]
  },
  {
   "cell_type": "code",
   "execution_count": 31,
   "metadata": {},
   "outputs": [
    {
     "name": "stdout",
     "output_type": "stream",
     "text": [
      "2\n",
      "4\n",
      "5\n",
      "8\n",
      "9\n"
     ]
    }
   ],
   "source": [
    "#Sort array in ascending order\n",
    "a = array('i', [5,9,8,4,2])\n",
    "b = sorted(a)\n",
    "for i in b:\n",
    "\tprint(i)"
   ]
  },
  {
   "cell_type": "code",
   "execution_count": 33,
   "metadata": {},
   "outputs": [
    {
     "name": "stdout",
     "output_type": "stream",
     "text": [
      "Enter your number: 6\n",
      "720\n"
     ]
    }
   ],
   "source": [
    "#FACTORIAL\n",
    "import math\n",
    "a = int(input(\"Enter your number: \"))\n",
    "print(math.factorial(a))"
   ]
  },
  {
   "cell_type": "markdown",
   "metadata": {},
   "source": [
    "# Taking Size from User"
   ]
  },
  {
   "cell_type": "code",
   "execution_count": 3,
   "metadata": {},
   "outputs": [
    {
     "name": "stdout",
     "output_type": "stream",
     "text": [
      "Enter the length of array: 4\n",
      "Enter the the next value: 16\n",
      "Enter the the next value: 28\n",
      "Enter the the next value: 14\n",
      "Enter the the next value: 52\n",
      "array('i', [16, 28, 14, 52])\n"
     ]
    }
   ],
   "source": [
    "from array import *\n",
    "arr = array('i',[])\n",
    "n = int(input(\"Enter the length of array: \"))\n",
    "for i in range(n):\n",
    "    x = int(input(\"Enter the the next value: \"))\n",
    "    arr.append(x)\n",
    "    \n",
    "print(arr)"
   ]
  },
  {
   "cell_type": "code",
   "execution_count": 9,
   "metadata": {
    "scrolled": true
   },
   "outputs": [
    {
     "name": "stdout",
     "output_type": "stream",
     "text": [
      "Enter the length of array: 5\n",
      "Enter the the next value: 121\n",
      "Enter the the next value: 546\n",
      "Enter the the next value: 567\n",
      "Enter the the next value: 234\n",
      "Enter the the next value: 678\n",
      "array('i', [121, 546, 567, 234, 678])\n",
      "Enter the value for search:546\n",
      "Index is 1\n",
      "1\n"
     ]
    }
   ],
   "source": [
    "from array import *\n",
    "arr = array('i',[])\n",
    "n = int(input(\"Enter the length of array: \"))\n",
    "for i in range(n):\n",
    "    x = int(input(\"Enter the the next value: \"))\n",
    "    arr.append(x)\n",
    "    \n",
    "print(arr)\n",
    "\n",
    "val = int(input(\"Enter the value for search:\"))\n",
    "k = 0\n",
    "for e in arr:\n",
    "    if e == val:\n",
    "        print(\"Index is\",k)\n",
    "        break\n",
    "    k+=1\n",
    "    \n",
    "#print(arr.index(val)) #using function"
   ]
  }
 ],
 "metadata": {
  "kernelspec": {
   "display_name": "Python 3",
   "language": "python",
   "name": "python3"
  },
  "language_info": {
   "codemirror_mode": {
    "name": "ipython",
    "version": 3
   },
   "file_extension": ".py",
   "mimetype": "text/x-python",
   "name": "python",
   "nbconvert_exporter": "python",
   "pygments_lexer": "ipython3",
   "version": "3.8.5"
  }
 },
 "nbformat": 4,
 "nbformat_minor": 4
}
