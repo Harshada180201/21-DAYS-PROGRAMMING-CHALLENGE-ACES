{
 "cells": [
  {
   "cell_type": "code",
   "execution_count": 2,
   "metadata": {},
   "outputs": [
    {
     "name": "stdout",
     "output_type": "stream",
     "text": [
      "10\n"
     ]
    }
   ],
   "source": [
    "a = 10 #global variable\n",
    "def something():\n",
    "    a = 15 #local variable\n",
    "    print(a)\n",
    "    \n",
    "print(a)"
   ]
  },
  {
   "cell_type": "code",
   "execution_count": 10,
   "metadata": {},
   "outputs": [
    {
     "name": "stdout",
     "output_type": "stream",
     "text": [
      "Inside the function 15\n",
      "outside the function 10\n"
     ]
    }
   ],
   "source": [
    "a = 10 #global variable\n",
    "def something():\n",
    "    a = 15 #local variable\n",
    "    print(\"Inside the function\",a)\n",
    "something()\n",
    "    \n",
    "print(\"outside the function\",a)"
   ]
  },
  {
   "cell_type": "code",
   "execution_count": 9,
   "metadata": {},
   "outputs": [
    {
     "name": "stdout",
     "output_type": "stream",
     "text": [
      "Inside the function 15\n",
      "outside the function 15\n"
     ]
    }
   ],
   "source": [
    "a = 10 \n",
    "def something():\n",
    "    global a\n",
    "    a = 15 \n",
    "    print(\"Inside the function\",a)\n",
    "something()\n",
    "    \n",
    "print(\"outside the function\",a)"
   ]
  },
  {
   "cell_type": "code",
   "execution_count": 16,
   "metadata": {},
   "outputs": [
    {
     "name": "stdout",
     "output_type": "stream",
     "text": [
      "140706623657920\n",
      "140706623657920\n",
      "Inside the function 15\n",
      "outside the function 10\n"
     ]
    }
   ],
   "source": [
    "a = 10 \n",
    "print(id(a))\n",
    "def something():\n",
    "    a = 9\n",
    "    #using \"globals\" we can access the address of global variable\n",
    "    x = globals()['a']\n",
    "    print(id(x)) \n",
    "    a = 15\n",
    "    print(\"Inside the function\",a)\n",
    "something()\n",
    "    \n",
    "print(\"outside the function\",a)"
   ]
  },
  {
   "cell_type": "code",
   "execution_count": 17,
   "metadata": {},
   "outputs": [
    {
     "name": "stdout",
     "output_type": "stream",
     "text": [
      "140706623657920\n",
      "140706623657920\n",
      "Inside the function 9\n",
      "outside the function 15\n"
     ]
    }
   ],
   "source": [
    "a = 10 \n",
    "print(id(a))\n",
    "def something():\n",
    "    a = 9\n",
    "    #using \"globals\" we can access the address of global variable\n",
    "    x = globals()['a']\n",
    "    print(id(x)) \n",
    "    print(\"Inside the function\",a)\n",
    "    globals()['a'] = 15\n",
    "something()\n",
    "    \n",
    "print(\"outside the function\",a)"
   ]
  }
 ],
 "metadata": {
  "kernelspec": {
   "display_name": "Python 3",
   "language": "python",
   "name": "python3"
  },
  "language_info": {
   "codemirror_mode": {
    "name": "ipython",
    "version": 3
   },
   "file_extension": ".py",
   "mimetype": "text/x-python",
   "name": "python",
   "nbconvert_exporter": "python",
   "pygments_lexer": "ipython3",
   "version": "3.8.5"
  }
 },
 "nbformat": 4,
 "nbformat_minor": 4
}
