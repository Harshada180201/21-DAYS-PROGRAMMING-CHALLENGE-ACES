{
 "cells": [
  {
   "cell_type": "markdown",
   "metadata": {},
   "source": [
    "# LIST"
   ]
  },
  {
   "cell_type": "code",
   "execution_count": 9,
   "metadata": {},
   "outputs": [
    {
     "name": "stdout",
     "output_type": "stream",
     "text": [
      "Append:  ['Mathematics', 'chemistry', 1997, 2000, 20544]\n",
      "Insert:  ['Mathematics', 'chemistry', 10087, 1997, 2000, 20544]\n",
      "Sum of list: 15\n"
     ]
    }
   ],
   "source": [
    "List = ['Mathematics', 'chemistry', 1997, 2000] \n",
    "List.append(20544) \n",
    "print(\"Append: \",List)\n",
    "List.insert(2,10087)      \n",
    "print(\"Insert: \",List) \n",
    "List1 = [1, 2, 3, 4, 5] \n",
    "print(\"Sum of list:\",sum(List1)) "
   ]
  },
  {
   "cell_type": "code",
   "execution_count": 6,
   "metadata": {},
   "outputs": [
    {
     "name": "stdout",
     "output_type": "stream",
     "text": [
      "[1, 2, 3, 2, 3, 4, 5]\n",
      "[2, 3, 4, 5, 1, 2, 3, 2, 3, 4, 5]\n"
     ]
    }
   ],
   "source": [
    "List1 = [1, 2, 3] \n",
    "List2 = [2, 3, 4, 5] \n",
    "  \n",
    "# Add List2 to List1 \n",
    "List1.extend(List2)         \n",
    "print(List1) \n",
    "  \n",
    "# Add List1 to List2 now \n",
    "List2.extend(List1)  \n",
    "print(List2)"
   ]
  },
  {
   "cell_type": "code",
   "execution_count": 15,
   "metadata": {},
   "outputs": [
    {
     "name": "stdout",
     "output_type": "stream",
     "text": [
      "Count:  4\n",
      "Length: 10\n",
      "Index:  1\n"
     ]
    }
   ],
   "source": [
    "List = [1, 2, 3, 1, 2, 1, 2, 3, 2, 1] \n",
    "print(\"Count: \",List.count(1)) \n",
    "print(\"Length:\",len(List))\n",
    "print(\"Index: \",List.index(2))"
   ]
  },
  {
   "cell_type": "code",
   "execution_count": 20,
   "metadata": {},
   "outputs": [
    {
     "name": "stdout",
     "output_type": "stream",
     "text": [
      "[5.33, 4.445, 3, 2.5, 2.3, 1.054]\n",
      "5.33\n"
     ]
    }
   ],
   "source": [
    "List = [2.3, 4.445, 3, 5.33, 1.054, 2.5] \n",
    "  \n",
    "#Reverse flag is set True \n",
    "List.sort(reverse=True)  \n",
    "  \n",
    "#List.sort().reverse(), reverses the sorted list   \n",
    "print(List)\n",
    "print(List.pop(0)) \n",
    "\n",
    "#sorted(List) \n",
    "#print(List)"
   ]
  },
  {
   "cell_type": "code",
   "execution_count": 23,
   "metadata": {},
   "outputs": [
    {
     "name": "stdout",
     "output_type": "stream",
     "text": [
      "[4.445, 3, 5.33, 1.054, 2.5]\n",
      "[4.445, 5.33, 1.054, 2.5]\n"
     ]
    }
   ],
   "source": [
    "List = [2.3, 4.445, 3, 5.33, 1.054, 2.5] \n",
    "del List[0] \n",
    "print(List)\n",
    "\n",
    "List.remove(3) \n",
    "print(List)"
   ]
  },
  {
   "cell_type": "markdown",
   "metadata": {},
   "source": [
    "# FUNCTION"
   ]
  },
  {
   "cell_type": "code",
   "execution_count": 24,
   "metadata": {},
   "outputs": [
    {
     "name": "stdout",
     "output_type": "stream",
     "text": [
      "I am learning Python function\n",
      "still in func1\n",
      "16\n",
      "value of x= 4\n",
      "value of y= 2\n",
      "8\n"
     ]
    }
   ],
   "source": [
    "def func1():\n",
    "   print (\"I am learning Python function\")\n",
    "   print (\"still in func1\")\n",
    "   \n",
    "func1()\n",
    "\n",
    "def square(x):\n",
    "  \treturn x*x\n",
    "print(square(4))\n",
    "\n",
    "def multiply(x,y=0):\n",
    "\tprint(\"value of x=\",x)\n",
    "\tprint(\"value of y=\",y)\n",
    "    \n",
    "\treturn x*y\n",
    "  \n",
    "print(multiply(y=2,x=4))"
   ]
  }
 ],
 "metadata": {
  "kernelspec": {
   "display_name": "Python 3",
   "language": "python",
   "name": "python3"
  },
  "language_info": {
   "codemirror_mode": {
    "name": "ipython",
    "version": 3
   },
   "file_extension": ".py",
   "mimetype": "text/x-python",
   "name": "python",
   "nbconvert_exporter": "python",
   "pygments_lexer": "ipython3",
   "version": "3.8.5"
  }
 },
 "nbformat": 4,
 "nbformat_minor": 4
}
